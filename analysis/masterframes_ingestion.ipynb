{
 "cells": [
  {
   "cell_type": "markdown",
   "id": "64ee6896",
   "metadata": {},
   "source": [
    "# Masterframes Ingestion (Clean)\n",
    "\n",
    "Purpose -> Fetch OHLCV, dividends, splits, earnings_dates, and meta_kv for the ticker universe and save to analysis/data."
   ]
  },
  {
   "cell_type": "code",
   "execution_count": 9,
   "id": "726272d6",
   "metadata": {},
   "outputs": [
    {
     "name": "stdout",
     "output_type": "stream",
     "text": [
      "DATA_DIR -> C:\\Users\\sherv\\workingdir\\Projects\\stock_analysis_tool\\git\\analysis\\data\n",
      "INGEST_DIR -> C:\\Users\\sherv\\workingdir\\Projects\\stock_analysis_tool\\git\\ingestion\\yfinance\n"
     ]
    }
   ],
   "source": [
    "from pathlib import Path\n",
    "import pandas as pd\n",
    "import sys\n",
    "\n",
    "# Paths (analysis/data)\n",
    "DATA_DIR = Path(\"data\")\n",
    "DATA_DIR.mkdir(parents=True, exist_ok=True)\n",
    "\n",
    "INGEST_DIR = Path(\"../ingestion/yfinance\")\n",
    "sys.path.append(str(INGEST_DIR))\n",
    "\n",
    "import yfinance_methods_v2 as ym\n",
    "print('DATA_DIR ->', DATA_DIR.resolve())\n",
    "print('INGEST_DIR ->', INGEST_DIR.resolve())\n"
   ]
  },
  {
   "cell_type": "code",
   "execution_count": 10,
   "id": "f0d33d14",
   "metadata": {},
   "outputs": [
    {
     "name": "stdout",
     "output_type": "stream",
     "text": [
      "Tickers -> 20\n"
     ]
    }
   ],
   "source": [
    "TICKERS = [\n",
    "    'AAPL','MSFT','NVDA','AMZN','META','GOOG','TSLA',\n",
    "    'JPM','XOM','BRK-B','UNH','SPY','QQQ','DIA','IWM','XLK','XLF','XLV','XLE','TLT'\n",
    "]\n",
    "PERIOD = 'max'\n",
    "INTERVAL = '1d'\n",
    "print('Tickers ->', len(TICKERS))\n"
   ]
  },
  {
   "cell_type": "markdown",
   "id": "eb51bb36",
   "metadata": {},
   "source": [
    "## Build masterframes\n",
    "\n",
    "This cell fetches tables and concatenates them safely."
   ]
  },
  {
   "cell_type": "code",
   "execution_count": 11,
   "id": "650a67d9",
   "metadata": {},
   "outputs": [
    {
     "name": "stderr",
     "output_type": "stream",
     "text": [
      "DIA: $DIA: possibly delisted; no earnings dates found\n",
      "IWM: $IWM: possibly delisted; no earnings dates found\n",
      "TLT: $TLT: possibly delisted; no earnings dates found\n"
     ]
    },
    {
     "name": "stdout",
     "output_type": "stream",
     "text": [
      "Rows -> 153332 2053 47 194 2754\n"
     ]
    }
   ],
   "source": [
    "def _cat(frames, cols):\n",
    "    frames = [f for f in frames if isinstance(f, pd.DataFrame) and not f.empty]\n",
    "    return pd.concat(frames, ignore_index=True) if frames else pd.DataFrame(columns=cols)\n",
    "\n",
    "ohlcv = _cat([ym.get_ohlcv_data(tk, period=PERIOD, interval=INTERVAL) for tk in TICKERS],\n",
    "             ['ticker','date','open','high','low','close','adj_close','volume','dividends','splits'])\n",
    "\n",
    "dividends = _cat([ym.get_dividends(tk) for tk in TICKERS], ['ticker','date','dividends'])\n",
    "\n",
    "splits = _cat([ym.get_splits(tk) for tk in TICKERS], ['ticker','date','splits'])\n",
    "\n",
    "earnings = _cat([ym.get_earnings_dates(tk) for tk in TICKERS], ['ticker','earnings_date','eps_estimate','reported_eps','surprise'])\n",
    "\n",
    "meta_kv = _cat([ym.get_company_metadata(tk) for tk in TICKERS], ['ticker','key','value'])\n",
    "\n",
    "print('Rows ->', len(ohlcv), len(dividends), len(splits), len(earnings), len(meta_kv))\n"
   ]
  },
  {
   "cell_type": "markdown",
   "id": "284984bd",
   "metadata": {},
   "source": [
    "## Save outputs (optional)\n",
    "\n",
    "Set SAVE = True to persist CSVs to analysis/data."
   ]
  },
  {
   "cell_type": "code",
   "execution_count": 12,
   "id": "d0a22a97",
   "metadata": {},
   "outputs": [
    {
     "name": "stdout",
     "output_type": "stream",
     "text": [
      "Saved CSVs to C:\\Users\\sherv\\workingdir\\Projects\\stock_analysis_tool\\git\\analysis\\data\n"
     ]
    }
   ],
   "source": [
    "SAVE = True\n",
    "if SAVE:\n",
    "    ohlcv.to_csv(DATA_DIR / 'ohlcv.csv', index=False)\n",
    "    dividends.to_csv(DATA_DIR / 'dividends.csv', index=False)\n",
    "    splits.to_csv(DATA_DIR / 'splits.csv', index=False)\n",
    "    earnings.to_csv(DATA_DIR / 'earnings_dates.csv', index=False)\n",
    "    meta_kv.to_csv(DATA_DIR / 'meta_kv.csv', index=False)\n",
    "    print('Saved CSVs to', DATA_DIR.resolve())\n",
    "else:\n",
    "    print('SAVE is False; not saving files')\n"
   ]
  },
  {
   "cell_type": "markdown",
   "id": "e0fd99ae",
   "metadata": {},
   "source": [
    "## Coverage and data quality\n",
    "\n",
    "Compute first/last/bars per ticker."
   ]
  },
  {
   "cell_type": "code",
   "execution_count": 13,
   "id": "47c8d435",
   "metadata": {},
   "outputs": [
    {
     "data": {
      "text/html": [
       "<div>\n",
       "<style scoped>\n",
       "    .dataframe tbody tr th:only-of-type {\n",
       "        vertical-align: middle;\n",
       "    }\n",
       "\n",
       "    .dataframe tbody tr th {\n",
       "        vertical-align: top;\n",
       "    }\n",
       "\n",
       "    .dataframe thead th {\n",
       "        text-align: right;\n",
       "    }\n",
       "</style>\n",
       "<table border=\"1\" class=\"dataframe\">\n",
       "  <thead>\n",
       "    <tr style=\"text-align: right;\">\n",
       "      <th></th>\n",
       "      <th>ticker</th>\n",
       "      <th>first</th>\n",
       "      <th>last</th>\n",
       "      <th>bars</th>\n",
       "    </tr>\n",
       "  </thead>\n",
       "  <tbody>\n",
       "    <tr>\n",
       "      <th>0</th>\n",
       "      <td>AAPL</td>\n",
       "      <td>1980-12-12 05:00:00+00:00</td>\n",
       "      <td>2025-08-20 04:00:00+00:00</td>\n",
       "      <td>11263</td>\n",
       "    </tr>\n",
       "    <tr>\n",
       "      <th>1</th>\n",
       "      <td>AMZN</td>\n",
       "      <td>1997-05-15 04:00:00+00:00</td>\n",
       "      <td>2025-08-21 04:00:00+00:00</td>\n",
       "      <td>7112</td>\n",
       "    </tr>\n",
       "    <tr>\n",
       "      <th>2</th>\n",
       "      <td>BRK-B</td>\n",
       "      <td>1996-05-09 04:00:00+00:00</td>\n",
       "      <td>2025-08-21 04:00:00+00:00</td>\n",
       "      <td>7369</td>\n",
       "    </tr>\n",
       "    <tr>\n",
       "      <th>3</th>\n",
       "      <td>DIA</td>\n",
       "      <td>1998-01-20 05:00:00+00:00</td>\n",
       "      <td>2025-08-21 04:00:00+00:00</td>\n",
       "      <td>6941</td>\n",
       "    </tr>\n",
       "    <tr>\n",
       "      <th>4</th>\n",
       "      <td>GOOG</td>\n",
       "      <td>2004-08-19 04:00:00+00:00</td>\n",
       "      <td>2025-08-21 04:00:00+00:00</td>\n",
       "      <td>5286</td>\n",
       "    </tr>\n",
       "    <tr>\n",
       "      <th>5</th>\n",
       "      <td>IWM</td>\n",
       "      <td>2000-05-26 04:00:00+00:00</td>\n",
       "      <td>2025-08-21 04:00:00+00:00</td>\n",
       "      <td>6347</td>\n",
       "    </tr>\n",
       "    <tr>\n",
       "      <th>6</th>\n",
       "      <td>JPM</td>\n",
       "      <td>1980-03-17 05:00:00+00:00</td>\n",
       "      <td>2025-08-21 04:00:00+00:00</td>\n",
       "      <td>11452</td>\n",
       "    </tr>\n",
       "    <tr>\n",
       "      <th>7</th>\n",
       "      <td>META</td>\n",
       "      <td>2012-05-18 04:00:00+00:00</td>\n",
       "      <td>2025-08-21 04:00:00+00:00</td>\n",
       "      <td>3334</td>\n",
       "    </tr>\n",
       "    <tr>\n",
       "      <th>8</th>\n",
       "      <td>MSFT</td>\n",
       "      <td>1986-03-13 05:00:00+00:00</td>\n",
       "      <td>2025-08-21 04:00:00+00:00</td>\n",
       "      <td>9938</td>\n",
       "    </tr>\n",
       "    <tr>\n",
       "      <th>9</th>\n",
       "      <td>NVDA</td>\n",
       "      <td>1999-01-22 05:00:00+00:00</td>\n",
       "      <td>2025-08-21 04:00:00+00:00</td>\n",
       "      <td>6687</td>\n",
       "    </tr>\n",
       "    <tr>\n",
       "      <th>10</th>\n",
       "      <td>QQQ</td>\n",
       "      <td>1999-03-10 05:00:00+00:00</td>\n",
       "      <td>2025-08-21 04:00:00+00:00</td>\n",
       "      <td>6655</td>\n",
       "    </tr>\n",
       "    <tr>\n",
       "      <th>11</th>\n",
       "      <td>SPY</td>\n",
       "      <td>1993-01-29 05:00:00+00:00</td>\n",
       "      <td>2025-08-21 04:00:00+00:00</td>\n",
       "      <td>8197</td>\n",
       "    </tr>\n",
       "    <tr>\n",
       "      <th>12</th>\n",
       "      <td>TLT</td>\n",
       "      <td>2002-07-30 04:00:00+00:00</td>\n",
       "      <td>2025-08-21 04:00:00+00:00</td>\n",
       "      <td>5804</td>\n",
       "    </tr>\n",
       "    <tr>\n",
       "      <th>13</th>\n",
       "      <td>TSLA</td>\n",
       "      <td>2010-06-29 04:00:00+00:00</td>\n",
       "      <td>2025-08-21 04:00:00+00:00</td>\n",
       "      <td>3811</td>\n",
       "    </tr>\n",
       "    <tr>\n",
       "      <th>14</th>\n",
       "      <td>UNH</td>\n",
       "      <td>1984-10-17 04:00:00+00:00</td>\n",
       "      <td>2025-08-21 04:00:00+00:00</td>\n",
       "      <td>10291</td>\n",
       "    </tr>\n",
       "    <tr>\n",
       "      <th>15</th>\n",
       "      <td>XLE</td>\n",
       "      <td>1998-12-22 05:00:00+00:00</td>\n",
       "      <td>2025-08-21 04:00:00+00:00</td>\n",
       "      <td>6707</td>\n",
       "    </tr>\n",
       "    <tr>\n",
       "      <th>16</th>\n",
       "      <td>XLF</td>\n",
       "      <td>1998-12-22 05:00:00+00:00</td>\n",
       "      <td>2025-08-21 04:00:00+00:00</td>\n",
       "      <td>6707</td>\n",
       "    </tr>\n",
       "    <tr>\n",
       "      <th>17</th>\n",
       "      <td>XLK</td>\n",
       "      <td>1998-12-22 05:00:00+00:00</td>\n",
       "      <td>2025-08-21 04:00:00+00:00</td>\n",
       "      <td>6707</td>\n",
       "    </tr>\n",
       "    <tr>\n",
       "      <th>18</th>\n",
       "      <td>XLV</td>\n",
       "      <td>1998-12-22 05:00:00+00:00</td>\n",
       "      <td>2025-08-21 04:00:00+00:00</td>\n",
       "      <td>6707</td>\n",
       "    </tr>\n",
       "    <tr>\n",
       "      <th>19</th>\n",
       "      <td>XOM</td>\n",
       "      <td>1962-01-02 05:00:00+00:00</td>\n",
       "      <td>2025-08-21 04:00:00+00:00</td>\n",
       "      <td>16017</td>\n",
       "    </tr>\n",
       "  </tbody>\n",
       "</table>\n",
       "</div>"
      ],
      "text/plain": [
       "   ticker                     first                      last   bars\n",
       "0    AAPL 1980-12-12 05:00:00+00:00 2025-08-20 04:00:00+00:00  11263\n",
       "1    AMZN 1997-05-15 04:00:00+00:00 2025-08-21 04:00:00+00:00   7112\n",
       "2   BRK-B 1996-05-09 04:00:00+00:00 2025-08-21 04:00:00+00:00   7369\n",
       "3     DIA 1998-01-20 05:00:00+00:00 2025-08-21 04:00:00+00:00   6941\n",
       "4    GOOG 2004-08-19 04:00:00+00:00 2025-08-21 04:00:00+00:00   5286\n",
       "5     IWM 2000-05-26 04:00:00+00:00 2025-08-21 04:00:00+00:00   6347\n",
       "6     JPM 1980-03-17 05:00:00+00:00 2025-08-21 04:00:00+00:00  11452\n",
       "7    META 2012-05-18 04:00:00+00:00 2025-08-21 04:00:00+00:00   3334\n",
       "8    MSFT 1986-03-13 05:00:00+00:00 2025-08-21 04:00:00+00:00   9938\n",
       "9    NVDA 1999-01-22 05:00:00+00:00 2025-08-21 04:00:00+00:00   6687\n",
       "10    QQQ 1999-03-10 05:00:00+00:00 2025-08-21 04:00:00+00:00   6655\n",
       "11    SPY 1993-01-29 05:00:00+00:00 2025-08-21 04:00:00+00:00   8197\n",
       "12    TLT 2002-07-30 04:00:00+00:00 2025-08-21 04:00:00+00:00   5804\n",
       "13   TSLA 2010-06-29 04:00:00+00:00 2025-08-21 04:00:00+00:00   3811\n",
       "14    UNH 1984-10-17 04:00:00+00:00 2025-08-21 04:00:00+00:00  10291\n",
       "15    XLE 1998-12-22 05:00:00+00:00 2025-08-21 04:00:00+00:00   6707\n",
       "16    XLF 1998-12-22 05:00:00+00:00 2025-08-21 04:00:00+00:00   6707\n",
       "17    XLK 1998-12-22 05:00:00+00:00 2025-08-21 04:00:00+00:00   6707\n",
       "18    XLV 1998-12-22 05:00:00+00:00 2025-08-21 04:00:00+00:00   6707\n",
       "19    XOM 1962-01-02 05:00:00+00:00 2025-08-21 04:00:00+00:00  16017"
      ]
     },
     "metadata": {},
     "output_type": "display_data"
    }
   ],
   "source": [
    "if not ohlcv.empty:\n",
    "    cov = (ohlcv.assign(date=pd.to_datetime(ohlcv['date'], errors='coerce'))\n",
    "               .groupby('ticker')['date']\n",
    "               .agg(first='min', last='max', bars='count')\n",
    "               .reset_index()\n",
    "               .sort_values('ticker'))\n",
    "    display(cov)\n",
    "else:\n",
    "    print('OHLCV empty; cannot compute coverage')\n"
   ]
  },
  {
   "cell_type": "markdown",
   "id": "2d684d1c",
   "metadata": {},
   "source": [
    "## Next steps\n",
    "\n",
    "- eda.ipynb -> overview + teaser\n",
    "- statistical_financial_analysis.ipynb -> correlation heatmap + CAPM\n",
    "- indicators_metrics.ipynb -> compute indicators and export CSV\n"
   ]
  }
 ],
 "metadata": {
  "kernelspec": {
   "display_name": ".venv",
   "language": "python",
   "name": "python3"
  },
  "language_info": {
   "codemirror_mode": {
    "name": "ipython",
    "version": 3
   },
   "file_extension": ".py",
   "mimetype": "text/x-python",
   "name": "python",
   "nbconvert_exporter": "python",
   "pygments_lexer": "ipython3",
   "version": "3.12.10"
  }
 },
 "nbformat": 4,
 "nbformat_minor": 5
}
