{
 "cells": [
  {
   "cell_type": "markdown",
   "id": "e8ac9cb3",
   "metadata": {},
   "source": [
    "# 1. Introduction & Ticker Setup"
   ]
  },
  {
   "cell_type": "code",
   "execution_count": 2,
   "id": "61cec4f9",
   "metadata": {},
   "outputs": [
    {
     "name": "stdout",
     "output_type": "stream",
     "text": [
      "--> Selected Tickers: ['AAPL', 'MSFT', 'NVDA']\n",
      "--> Time Range: 2024-08-20 → 2025-08-20\n"
     ]
    }
   ],
   "source": [
    "# Imports\n",
    "import pandas as pd\n",
    "import numpy as np\n",
    "import matplotlib.pyplot as plt\n",
    "import seaborn as sns\n",
    "from datetime import datetime, timedelta\n",
    "\n",
    "# Config\n",
    "TICKERS = [\"AAPL\", \"MSFT\", \"NVDA\"]\n",
    "END_DATE = datetime.today().date()\n",
    "START_DATE = END_DATE - timedelta(days=365)  # past 1 year\n",
    "\n",
    "# Optional: pandas display options\n",
    "pd.set_option(\"display.max_columns\", None)\n",
    "pd.set_option(\"display.width\", 1000)\n",
    "\n",
    "# Title summary\n",
    "print(\"--> Selected Tickers:\", TICKERS)\n",
    "print(\"--> Time Range:\", START_DATE, \"→\", END_DATE)\n"
   ]
  },
  {
   "cell_type": "markdown",
   "id": "5a270efc",
   "metadata": {},
   "source": [
    "# 2. Data Ingestion via yfinance"
   ]
  },
  {
   "cell_type": "code",
   "execution_count": 18,
   "id": "a520f3fb",
   "metadata": {},
   "outputs": [
    {
     "data": {
      "text/html": [
       "<div>\n",
       "<style scoped>\n",
       "    .dataframe tbody tr th:only-of-type {\n",
       "        vertical-align: middle;\n",
       "    }\n",
       "\n",
       "    .dataframe tbody tr th {\n",
       "        vertical-align: top;\n",
       "    }\n",
       "\n",
       "    .dataframe thead th {\n",
       "        text-align: right;\n",
       "    }\n",
       "</style>\n",
       "<table border=\"1\" class=\"dataframe\">\n",
       "  <thead>\n",
       "    <tr style=\"text-align: right;\">\n",
       "      <th></th>\n",
       "      <th>contractSymbol</th>\n",
       "      <th>lastTradeDate</th>\n",
       "      <th>strike</th>\n",
       "      <th>lastPrice</th>\n",
       "      <th>bid</th>\n",
       "      <th>ask</th>\n",
       "      <th>change</th>\n",
       "      <th>percentChange</th>\n",
       "      <th>volume</th>\n",
       "      <th>openInterest</th>\n",
       "      <th>impliedVolatility</th>\n",
       "      <th>inTheMoney</th>\n",
       "      <th>contractSize</th>\n",
       "      <th>currency</th>\n",
       "      <th>type</th>\n",
       "      <th>expirationDate</th>\n",
       "      <th>ticker</th>\n",
       "    </tr>\n",
       "  </thead>\n",
       "  <tbody>\n",
       "    <tr>\n",
       "      <th>0</th>\n",
       "      <td>AAPL250822C00110000</td>\n",
       "      <td>2025-08-19 19:59:55+00:00</td>\n",
       "      <td>110.0</td>\n",
       "      <td>120.67</td>\n",
       "      <td>0.0</td>\n",
       "      <td>0.0</td>\n",
       "      <td>0.0</td>\n",
       "      <td>0.0</td>\n",
       "      <td>19.0</td>\n",
       "      <td>27.0</td>\n",
       "      <td>0.00001</td>\n",
       "      <td>True</td>\n",
       "      <td>REGULAR</td>\n",
       "      <td>USD</td>\n",
       "      <td>call</td>\n",
       "      <td>2025-08-22</td>\n",
       "      <td>AAPL</td>\n",
       "    </tr>\n",
       "    <tr>\n",
       "      <th>1</th>\n",
       "      <td>AAPL250822C00120000</td>\n",
       "      <td>2025-08-19 17:29:08+00:00</td>\n",
       "      <td>120.0</td>\n",
       "      <td>110.62</td>\n",
       "      <td>0.0</td>\n",
       "      <td>0.0</td>\n",
       "      <td>0.0</td>\n",
       "      <td>0.0</td>\n",
       "      <td>2.0</td>\n",
       "      <td>2.0</td>\n",
       "      <td>0.00001</td>\n",
       "      <td>True</td>\n",
       "      <td>REGULAR</td>\n",
       "      <td>USD</td>\n",
       "      <td>call</td>\n",
       "      <td>2025-08-22</td>\n",
       "      <td>AAPL</td>\n",
       "    </tr>\n",
       "    <tr>\n",
       "      <th>2</th>\n",
       "      <td>AAPL250822C00125000</td>\n",
       "      <td>2025-08-19 17:29:08+00:00</td>\n",
       "      <td>125.0</td>\n",
       "      <td>105.67</td>\n",
       "      <td>0.0</td>\n",
       "      <td>0.0</td>\n",
       "      <td>0.0</td>\n",
       "      <td>0.0</td>\n",
       "      <td>2.0</td>\n",
       "      <td>4.0</td>\n",
       "      <td>0.00001</td>\n",
       "      <td>True</td>\n",
       "      <td>REGULAR</td>\n",
       "      <td>USD</td>\n",
       "      <td>call</td>\n",
       "      <td>2025-08-22</td>\n",
       "      <td>AAPL</td>\n",
       "    </tr>\n",
       "    <tr>\n",
       "      <th>3</th>\n",
       "      <td>AAPL250822C00130000</td>\n",
       "      <td>2025-08-18 14:09:51+00:00</td>\n",
       "      <td>130.0</td>\n",
       "      <td>102.56</td>\n",
       "      <td>0.0</td>\n",
       "      <td>0.0</td>\n",
       "      <td>0.0</td>\n",
       "      <td>0.0</td>\n",
       "      <td>1.0</td>\n",
       "      <td>8.0</td>\n",
       "      <td>0.00001</td>\n",
       "      <td>True</td>\n",
       "      <td>REGULAR</td>\n",
       "      <td>USD</td>\n",
       "      <td>call</td>\n",
       "      <td>2025-08-22</td>\n",
       "      <td>AAPL</td>\n",
       "    </tr>\n",
       "    <tr>\n",
       "      <th>4</th>\n",
       "      <td>AAPL250822C00135000</td>\n",
       "      <td>2025-08-19 17:29:41+00:00</td>\n",
       "      <td>135.0</td>\n",
       "      <td>95.60</td>\n",
       "      <td>0.0</td>\n",
       "      <td>0.0</td>\n",
       "      <td>0.0</td>\n",
       "      <td>0.0</td>\n",
       "      <td>3.0</td>\n",
       "      <td>2.0</td>\n",
       "      <td>0.00001</td>\n",
       "      <td>True</td>\n",
       "      <td>REGULAR</td>\n",
       "      <td>USD</td>\n",
       "      <td>call</td>\n",
       "      <td>2025-08-22</td>\n",
       "      <td>AAPL</td>\n",
       "    </tr>\n",
       "  </tbody>\n",
       "</table>\n",
       "</div>"
      ],
      "text/plain": [
       "        contractSymbol             lastTradeDate  strike  lastPrice  bid  ask  change  percentChange  volume  openInterest  impliedVolatility  inTheMoney contractSize currency  type expirationDate ticker\n",
       "0  AAPL250822C00110000 2025-08-19 19:59:55+00:00   110.0     120.67  0.0  0.0     0.0            0.0    19.0          27.0            0.00001        True      REGULAR      USD  call     2025-08-22   AAPL\n",
       "1  AAPL250822C00120000 2025-08-19 17:29:08+00:00   120.0     110.62  0.0  0.0     0.0            0.0     2.0           2.0            0.00001        True      REGULAR      USD  call     2025-08-22   AAPL\n",
       "2  AAPL250822C00125000 2025-08-19 17:29:08+00:00   125.0     105.67  0.0  0.0     0.0            0.0     2.0           4.0            0.00001        True      REGULAR      USD  call     2025-08-22   AAPL\n",
       "3  AAPL250822C00130000 2025-08-18 14:09:51+00:00   130.0     102.56  0.0  0.0     0.0            0.0     1.0           8.0            0.00001        True      REGULAR      USD  call     2025-08-22   AAPL\n",
       "4  AAPL250822C00135000 2025-08-19 17:29:41+00:00   135.0      95.60  0.0  0.0     0.0            0.0     3.0           2.0            0.00001        True      REGULAR      USD  call     2025-08-22   AAPL"
      ]
     },
     "execution_count": 18,
     "metadata": {},
     "output_type": "execute_result"
    }
   ],
   "source": [
    "import yfinance as yf\n",
    "\n",
    "ticker = yf.Ticker(\"AAPL\")\n",
    "expiration_dates = ticker.options  # List of available expiration dates\n",
    "\n",
    "# Example: Get first available expiration date\n",
    "exp_date = expiration_dates[0]\n",
    "\n",
    "# Load option chain for that expiration\n",
    "opt_chain = ticker.option_chain(exp_date)\n",
    "\n",
    "# Separate calls and puts\n",
    "df_calls = opt_chain.calls.copy()\n",
    "df_calls[\"type\"] = \"call\"\n",
    "df_calls[\"expirationDate\"] = exp_date\n",
    "\n",
    "df_puts = opt_chain.puts.copy()\n",
    "df_puts[\"type\"] = \"put\"\n",
    "df_puts[\"expirationDate\"] = exp_date\n",
    "\n",
    "# Combine both\n",
    "df_options = pd.concat([df_calls, df_puts], ignore_index=True)\n",
    "df_options[\"ticker\"] = \"AAPL\"\n",
    "\n",
    "# Preview\n",
    "df_options.head()\n",
    "# df_options.columns\n"
   ]
  },
  {
   "cell_type": "markdown",
   "id": "2a9e27fa",
   "metadata": {},
   "source": [
    "# 3. Initial Inspection"
   ]
  },
  {
   "cell_type": "code",
   "execution_count": null,
   "id": "3b1af16a",
   "metadata": {},
   "outputs": [],
   "source": []
  },
  {
   "cell_type": "markdown",
   "id": "9ecc6232",
   "metadata": {},
   "source": [
    "## 3.1 .info() Output"
   ]
  },
  {
   "cell_type": "code",
   "execution_count": null,
   "id": "14225aec",
   "metadata": {},
   "outputs": [],
   "source": []
  },
  {
   "cell_type": "markdown",
   "id": "88fc9fd1",
   "metadata": {},
   "source": [
    "## 3.2 .describe() Summary"
   ]
  },
  {
   "cell_type": "code",
   "execution_count": null,
   "id": "8960c30d",
   "metadata": {},
   "outputs": [],
   "source": []
  },
  {
   "cell_type": "markdown",
   "id": "f1e14761",
   "metadata": {},
   "source": [
    "## 3.3 Time Range Check"
   ]
  },
  {
   "cell_type": "code",
   "execution_count": null,
   "id": "6be6dd81",
   "metadata": {},
   "outputs": [],
   "source": []
  },
  {
   "cell_type": "markdown",
   "id": "a28ab801",
   "metadata": {},
   "source": [
    "# 4. Data Cleaning\n",
    "- Missing values, datetime index, NA handling"
   ]
  },
  {
   "cell_type": "code",
   "execution_count": null,
   "id": "38142634",
   "metadata": {},
   "outputs": [],
   "source": []
  },
  {
   "cell_type": "markdown",
   "id": "b234c01a",
   "metadata": {},
   "source": [
    "# 5. Price Trend Visualization\n",
    "- Line plot, volume overlay (per ticker)"
   ]
  },
  {
   "cell_type": "code",
   "execution_count": null,
   "id": "445c5f0a",
   "metadata": {},
   "outputs": [],
   "source": []
  },
  {
   "cell_type": "markdown",
   "id": "49d29af5",
   "metadata": {},
   "source": [
    "# 6. Returns & Volatility\n",
    "- Daily returns, rolling std, histograms"
   ]
  },
  {
   "cell_type": "code",
   "execution_count": null,
   "id": "666dcf66",
   "metadata": {},
   "outputs": [],
   "source": []
  },
  {
   "cell_type": "markdown",
   "id": "0dd29e9f",
   "metadata": {},
   "source": [
    "# 7. Technical Indicators\n",
    "- SMA, EMA, RSI (function-based)"
   ]
  },
  {
   "cell_type": "code",
   "execution_count": null,
   "id": "b9131e36",
   "metadata": {},
   "outputs": [],
   "source": []
  },
  {
   "cell_type": "markdown",
   "id": "1b7648f1",
   "metadata": {},
   "source": [
    "# 8. Correlation & Comparative Analysis\n",
    "- Correlation matrix, pairplots, clusters"
   ]
  },
  {
   "cell_type": "code",
   "execution_count": null,
   "id": "e689c208",
   "metadata": {},
   "outputs": [],
   "source": []
  },
  {
   "cell_type": "markdown",
   "id": "dd1061b3",
   "metadata": {},
   "source": [
    "# 9. Seasonality & Patterns\n",
    "- Monthly/weekday effects, boxplots"
   ]
  },
  {
   "cell_type": "code",
   "execution_count": null,
   "id": "4d6c8b9e",
   "metadata": {},
   "outputs": [],
   "source": []
  },
  {
   "cell_type": "markdown",
   "id": "bbb2356b",
   "metadata": {},
   "source": [
    "# 10. Summary of Insights"
   ]
  },
  {
   "cell_type": "code",
   "execution_count": null,
   "id": "decc4967",
   "metadata": {},
   "outputs": [],
   "source": []
  }
 ],
 "metadata": {
  "kernelspec": {
   "display_name": ".venv",
   "language": "python",
   "name": "python3"
  },
  "language_info": {
   "codemirror_mode": {
    "name": "ipython",
    "version": 3
   },
   "file_extension": ".py",
   "mimetype": "text/x-python",
   "name": "python",
   "nbconvert_exporter": "python",
   "pygments_lexer": "ipython3",
   "version": "3.12.10"
  }
 },
 "nbformat": 4,
 "nbformat_minor": 5
}
