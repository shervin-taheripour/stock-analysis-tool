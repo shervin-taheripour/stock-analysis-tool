{
 "cells": [
  {
   "cell_type": "code",
   "execution_count": 1,
   "id": "f6dcb6d1",
   "metadata": {},
   "outputs": [
    {
     "name": "stdout",
     "output_type": "stream",
     "text": [
      "Test R^2: -0.0190\n",
      "Test MAE: 0.013504\n"
     ]
    },
    {
     "data": {
      "text/plain": [
       "macd_hist        -2.606729e-03\n",
       "vol60             2.031033e-03\n",
       "macd_signal       1.815209e-03\n",
       "sma20            -1.591197e-03\n",
       "ema20             8.966484e-04\n",
       "macd_line        -7.915201e-04\n",
       "ema50             3.826827e-04\n",
       "sma50             3.096382e-04\n",
       "vol20             2.555021e-04\n",
       "rollcorr60_spy   -2.306057e-04\n",
       "rsi14            -1.188324e-08\n",
       "dtype: float64"
      ]
     },
     "execution_count": 1,
     "metadata": {},
     "output_type": "execute_result"
    }
   ],
   "source": [
    "from pathlib import Path\n",
    "import pandas as pd, numpy as np\n",
    "from sklearn.model_selection import TimeSeriesSplit\n",
    "from sklearn.linear_model import Ridge\n",
    "from sklearn.metrics import r2_score, mean_absolute_error\n",
    "\n",
    "DATA_DIR = Path(\"data\")\n",
    "ohlcv = pd.read_csv(DATA_DIR/\"ohlcv.csv\", parse_dates=[\"date\"]).sort_values([\"ticker\",\"date\"])\n",
    "ind   = pd.read_csv(DATA_DIR/\"indicators.csv\", parse_dates=[\"date\"])\n",
    "\n",
    "# build wide indicators for features\n",
    "Xw = ind.pivot_table(index=[\"date\",\"ticker\"], columns=\"metric\", values=\"value\")\n",
    "# target: next-day return\n",
    "ohlcv[\"ret1\"] = ohlcv.groupby(\"ticker\")[\"close\"].pct_change().shift(-1)\n",
    "y = ohlcv.set_index([\"date\",\"ticker\"])[\"ret1\"]\n",
    "# align\n",
    "XY = Xw.join(y, how=\"inner\").dropna()\n",
    "X, y = XY.drop(columns=[\"ret1\"]), XY[\"ret1\"]\n",
    "\n",
    "# simple time split -> last 20% test\n",
    "cut = int(len(X)*0.8)\n",
    "Xtr, Xte = X.iloc[:cut], X.iloc[cut:]\n",
    "ytr, yte = y.iloc[:cut], y.iloc[cut:]\n",
    "\n",
    "model = Ridge(alpha=5.0)\n",
    "model.fit(Xtr, ytr)\n",
    "pred = model.predict(Xte)\n",
    "\n",
    "print(f\"Test R^2: {r2_score(yte, pred):.4f}\")\n",
    "print(f\"Test MAE: {mean_absolute_error(yte, pred):.6f}\")\n",
    "coef = pd.Series(model.coef_, index=X.columns).sort_values(key=abs, ascending=False).head(12)\n",
    "coef"
   ]
  }
 ],
 "metadata": {
  "kernelspec": {
   "display_name": ".venv",
   "language": "python",
   "name": "python3"
  },
  "language_info": {
   "codemirror_mode": {
    "name": "ipython",
    "version": 3
   },
   "file_extension": ".py",
   "mimetype": "text/x-python",
   "name": "python",
   "nbconvert_exporter": "python",
   "pygments_lexer": "ipython3",
   "version": "3.12.10"
  }
 },
 "nbformat": 4,
 "nbformat_minor": 5
}
